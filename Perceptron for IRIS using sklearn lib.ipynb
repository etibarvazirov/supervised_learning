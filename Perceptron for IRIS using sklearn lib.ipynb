{
 "cells": [
  {
   "cell_type": "markdown",
   "id": "70beebb0",
   "metadata": {},
   "source": [
    "# ML Perceptron learning algorithm"
   ]
  },
  {
   "cell_type": "code",
   "execution_count": null,
   "id": "d80a704f",
   "metadata": {},
   "outputs": [],
   "source": [
    "import numpy as np\n",
    "from sklearn import datasets\n",
    "from sklearn.model_selection import train_test_split\n",
    "from sklearn.preprocessing import StandardScaler\n",
    "from sklearn.linear_model import Perceptron\n",
    "from sklearn.metrics import accuracy_score\n",
    "\n",
    "iris = datasets.load_iris()\n",
    "X = iris.data[:, [2, 3]]\n",
    "y = iris.target\n",
    "X_train, X_test, y_train, y_test = train_test_split(X,y,test_size=0.3, random_state=1, stratify=y)\n",
    "np.bincount(y) # count the number of same samples for each label (Setosa, Versicolor, Virginica) [50 50 50]\n",
    "print(np.bincount(y_train))\n",
    "np.bincount(y_test)\n",
    "\n",
    "sc = StandardScaler()\n",
    "sc.fit(X_train) # calculating mean and standard deviation \n",
    "X_train_std = sc.transform(X_train) \n",
    "X_test_std = sc.transform(X_test)\n",
    "\n",
    "ppn = Perceptron(max_iter = 40, eta0 = 0.01, random_state = 1)\n",
    "ppn.fit(X_train_std,y_train)\n",
    "\n",
    "y_pred = ppn.predict(x_test_std)\n",
    "num_of_misclassified_samples = (y_test != y_pred).sum()\n",
    "print(f'Number of misclassified samples:  {num_of_misclassified_samples}')\n",
    "#accuracy_score(y_test,y_pred)   # 1 - num_of_misclassified_samples / data samples (45 flowers)\n",
    "#ppn.score(X_test_std,y_test)  # Perceptron model class has own accuracy score function as well"
   ]
  }
 ],
 "metadata": {
  "kernelspec": {
   "display_name": "Python 3",
   "language": "python",
   "name": "python3"
  },
  "language_info": {
   "codemirror_mode": {
    "name": "ipython",
    "version": 3
   },
   "file_extension": ".py",
   "mimetype": "text/x-python",
   "name": "python",
   "nbconvert_exporter": "python",
   "pygments_lexer": "ipython3",
   "version": "3.8.8"
  }
 },
 "nbformat": 4,
 "nbformat_minor": 5
}

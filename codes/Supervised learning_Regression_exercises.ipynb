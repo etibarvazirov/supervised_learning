{
 "cells": [
  {
   "cell_type": "markdown",
   "id": "a98fc6bb",
   "metadata": {},
   "source": [
    "# Fit & predict for regression"
   ]
  },
  {
   "cell_type": "code",
   "execution_count": 1,
   "id": "be02da66",
   "metadata": {},
   "outputs": [
    {
     "name": "stdout",
     "output_type": "stream",
     "text": [
      "0.9569566641435086\n"
     ]
    },
    {
     "data": {
      "text/plain": [
       "[<matplotlib.lines.Line2D at 0x1c2d5a9f130>]"
      ]
     },
     "execution_count": 1,
     "metadata": {},
     "output_type": "execute_result"
    },
    {
     "data": {
      "image/png": "[encoded data removed]",
      "text/plain": [
       "<Figure size 432x288 with 1 Axes>"
      ]
     },
     "metadata": {
      "needs_background": "light"
     },
     "output_type": "display_data"
    }
   ],
   "source": [
    "import numpy as np\n",
    "import pandas as pd\n",
    "import matplotlib.pyplot as plt\n",
    "\n",
    "# Import LinearRegression\n",
    "from sklearn.linear_model import LinearRegression\n",
    "\n",
    "# import dataset\n",
    "df = pd.read_csv('../data/Salary - Experience data/Salary_Data.csv')\n",
    "\n",
    "# get X,y data and target\n",
    "X = df['YearsExperience'].values.reshape(-1,1)\n",
    "y = df['Salary'].values.reshape(-1,1)\n",
    "\n",
    "#plot the scatter graph\n",
    "plt.scatter(X,y)\n",
    "\n",
    "# Create the regressor: reg\n",
    "reg = LinearRegression()\n",
    "\n",
    "# Create the prediction space\n",
    "pred_space = np.linspace(min(X),max(X))\n",
    "\n",
    "# Fit the model to the data\n",
    "reg.fit(X,y)\n",
    "\n",
    "# Compute predictions over the prediction space\n",
    "y_pred = reg.predict(pred_space)\n",
    "\n",
    "# print score\n",
    "print(reg.score(X,y))\n",
    "\n",
    "# Plot regression line\n",
    "plt.plot(pred_space, y_pred, color = 'red', linewidth = 3)"
   ]
  },
  {
   "cell_type": "markdown",
   "id": "fd343c58",
   "metadata": {},
   "source": [
    "# Train/test split for regression"
   ]
  },
  {
   "cell_type": "code",
   "execution_count": 38,
   "id": "ed291a44",
   "metadata": {},
   "outputs": [
    {
     "name": "stdout",
     "output_type": "stream",
     "text": [
      "R^2: 0.9414466227178214\n",
      "Root Mean Squared Error: 6146.92300799458\n"
     ]
    },
    {
     "data": {
      "text/html": [
       "<div>\n",
       "<style scoped>\n",
       "    .dataframe tbody tr th:only-of-type {\n",
       "        vertical-align: middle;\n",
       "    }\n",
       "\n",
       "    .dataframe tbody tr th {\n",
       "        vertical-align: top;\n",
       "    }\n",
       "\n",
       "    .dataframe thead th {\n",
       "        text-align: right;\n",
       "    }\n",
       "</style>\n",
       "<table border=\"1\" class=\"dataframe\">\n",
       "  <thead>\n",
       "    <tr style=\"text-align: right;\">\n",
       "      <th></th>\n",
       "      <th>y_pred</th>\n",
       "      <th>y_test</th>\n",
       "    </tr>\n",
       "  </thead>\n",
       "  <tbody>\n",
       "    <tr>\n",
       "      <th>0</th>\n",
       "      <td>115573.622884</td>\n",
       "      <td>112635.0</td>\n",
       "    </tr>\n",
       "    <tr>\n",
       "      <th>1</th>\n",
       "      <td>71679.938782</td>\n",
       "      <td>67938.0</td>\n",
       "    </tr>\n",
       "    <tr>\n",
       "      <th>2</th>\n",
       "      <td>102498.908470</td>\n",
       "      <td>113812.0</td>\n",
       "    </tr>\n",
       "    <tr>\n",
       "      <th>3</th>\n",
       "      <td>75415.571471</td>\n",
       "      <td>83088.0</td>\n",
       "    </tr>\n",
       "    <tr>\n",
       "      <th>4</th>\n",
       "      <td>55803.499851</td>\n",
       "      <td>64445.0</td>\n",
       "    </tr>\n",
       "    <tr>\n",
       "      <th>5</th>\n",
       "      <td>60473.040713</td>\n",
       "      <td>57189.0</td>\n",
       "    </tr>\n",
       "    <tr>\n",
       "      <th>6</th>\n",
       "      <td>122110.980090</td>\n",
       "      <td>122391.0</td>\n",
       "    </tr>\n",
       "    <tr>\n",
       "      <th>7</th>\n",
       "      <td>107168.449332</td>\n",
       "      <td>109431.0</td>\n",
       "    </tr>\n",
       "    <tr>\n",
       "      <th>8</th>\n",
       "      <td>63274.765230</td>\n",
       "      <td>56957.0</td>\n",
       "    </tr>\n",
       "  </tbody>\n",
       "</table>\n",
       "</div>"
      ],
      "text/plain": [
       "          y_pred    y_test\n",
       "0  115573.622884  112635.0\n",
       "1   71679.938782   67938.0\n",
       "2  102498.908470  113812.0\n",
       "3   75415.571471   83088.0\n",
       "4   55803.499851   64445.0\n",
       "5   60473.040713   57189.0\n",
       "6  122110.980090  122391.0\n",
       "7  107168.449332  109431.0\n",
       "8   63274.765230   56957.0"
      ]
     },
     "execution_count": 38,
     "metadata": {},
     "output_type": "execute_result"
    }
   ],
   "source": [
    "# Import necessary modules\n",
    "from sklearn.metrics import mean_squared_error\n",
    "from sklearn.model_selection import train_test_split\n",
    "import pandas as pd\n",
    "df = pd.read_csv('../data/Salary - Experience data/Salary_Data.csv')\n",
    "\n",
    "# get X,y data and target\n",
    "X = df['YearsExperience'].values.reshape(-1,1)\n",
    "y = df['Salary'].values.reshape(-1,1)\n",
    "\n",
    "# Create training and test sets\n",
    "X_train, X_test, y_train, y_test = train_test_split(X, y, test_size = 0.3, random_state=42)\n",
    "\n",
    "# Create the regressor: reg_all\n",
    "reg_all = LinearRegression()\n",
    "\n",
    "# Fit the regressor to the training data\n",
    "reg_all.fit(X_train,y_train)\n",
    "\n",
    "# Predict on the test data: y_pred\n",
    "y_pred = reg_all.predict(X_test)\n",
    "\n",
    "# Compute and print R^2 and RMSE (Root Mean Squared Error)\n",
    "print(\"R^2: {}\".format(reg_all.score(X_test, y_test)))\n",
    "rmse = np.sqrt(mean_squared_error(y_test,y_pred))\n",
    "print(\"Root Mean Squared Error: {}\".format(rmse))\n",
    "\n",
    "# see y_pred and y_test in the table to understand the RMSE\n",
    "df2 =pd.DataFrame({'y_pred':y_pred.flatten(), 'y_test':y_test.flatten()}, index = range(len(y_pred)))\n",
    "df2.head(20)"
   ]
  },
  {
   "cell_type": "markdown",
   "id": "3cacc269",
   "metadata": {},
   "source": [
    "# 5-fold cross-validation"
   ]
  },
  {
   "cell_type": "code",
   "execution_count": 45,
   "id": "25fc4bb3",
   "metadata": {},
   "outputs": [
    {
     "name": "stdout",
     "output_type": "stream",
     "text": [
      "[0.42772573 0.63293326 0.71542639]\n",
      "Average of 5-fold cross validation scores: 0.592028458771364\n"
     ]
    }
   ],
   "source": [
    "#import the necessary modules\n",
    "from sklearn.model_selection import cross_val_score\n",
    "\n",
    "# Create a linear regression object: reg\n",
    "reg = LinearRegression()\n",
    "\n",
    "# Compute 3-fold cross-validation scores\n",
    "cv_scores = cross_val_score(reg,X,y,cv = 3)\n",
    "# print and calculate the average\n",
    "print(cv_scores)\n",
    "print('Average of 5-fold cross validation scores: {}'.format(np.mean(cv_scores)))"
   ]
  },
  {
   "cell_type": "code",
   "execution_count": null,
   "id": "01351a4a",
   "metadata": {},
   "outputs": [],
   "source": []
  }
 ],
 "metadata": {
  "kernelspec": {
   "display_name": "Python 3",
   "language": "python",
   "name": "python3"
  },
  "language_info": {
   "codemirror_mode": {
    "name": "ipython",
    "version": 3
   },
   "file_extension": ".py",
   "mimetype": "text/x-python",
   "name": "python",
   "nbconvert_exporter": "python",
   "pygments_lexer": "ipython3",
   "version": "3.8.8"
  }
 },
 "nbformat": 4,
 "nbformat_minor": 5
}

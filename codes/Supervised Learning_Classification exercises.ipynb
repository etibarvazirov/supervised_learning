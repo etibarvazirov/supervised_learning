{
 "cells": [
  {
   "cell_type": "markdown",
   "id": "ea840678",
   "metadata": {},
   "source": [
    "# k-Nearest Neighbors: Fit & Predict"
   ]
  },
  {
   "cell_type": "code",
   "execution_count": 45,
   "id": "456f8288",
   "metadata": {},
   "outputs": [
    {
     "name": "stdout",
     "output_type": "stream",
     "text": [
      "        sr      rr       t      lm      bo     rem   sr.1     hr  sl\n",
      "0   93.800  25.680  91.840  16.600  89.840   99.60  1.840  74.20   3\n",
      "1   91.640  25.104  91.552  15.880  89.552   98.88  1.552  72.76   3\n",
      "2   60.000  20.000  96.000  10.000  95.000   85.00  7.000  60.00   1\n",
      "3   85.760  23.536  90.768  13.920  88.768   96.92  0.768  68.84   3\n",
      "4   48.120  17.248  97.872   6.496  96.248   72.48  8.248  53.12   0\n",
      "5   56.880  19.376  95.376   9.376  94.064   83.44  6.376  58.44   1\n",
      "6   47.000  16.800  97.200   5.600  95.800   68.00  7.800  52.00   0\n",
      "7   50.000  18.000  99.000   8.000  97.000   80.00  9.000  55.00   0\n",
      "8   45.280  16.112  96.168   4.224  95.112   61.12  7.112  50.28   0\n",
      "9   55.520  19.104  95.104   9.104  93.656   82.76  6.104  57.76   1\n",
      "10  73.440  21.344  93.344  11.344  91.344   91.72  4.016  63.36   2\n",
      "11  59.280  19.856  95.856   9.856  94.784   84.64  6.856  59.64   1\n",
      "12  48.600  17.440  98.160   6.880  96.440   74.40  8.440  53.60   0\n",
      "13  96.288  26.288  85.360  17.144  82.432  100.36  0.000  75.72   4\n",
      "14  87.800  24.080  91.040  14.600  89.040   97.60  1.040  70.20   3\n",
      "4th training data prediction: [0 0 0 1]\n",
      "New data prediction: [3 1]\n"
     ]
    }
   ],
   "source": [
    "# Import KNeighborsClassifier from sklearn.neighbors\n",
    "from sklearn.neighbors import KNeighborsClassifier\n",
    "import pandas as pd\n",
    "import numpy as np\n",
    "df = pd.read_csv('../data/Human_Stress_Detection_in_and_through_Sleep/SaYoPillow.csv')\n",
    "print(df.head(15))\n",
    "# Create arrays for the features and the response variable\n",
    "y = df['sl'].values\n",
    "X = df.drop('sl',axis = 1).values\n",
    "# Create a k-NN classifier with 6 neighbors\n",
    "knn = KNeighborsClassifier(n_neighbors = 6)\n",
    "# Fit the classifier to the data\n",
    "knn.fit(X,y)\n",
    "# Predict the labels for the training data X with rows 6 to 10\n",
    "# y_pred = knn.predict(np.array([X[4]]))\n",
    "y_pred = knn.predict(X[6:10,:])\n",
    "print('4th training data prediction: {}'.format(y_pred))\n",
    "# Predict and print the label for the new data point X_new\n",
    "X_new = np.array([\n",
    "    [85.72,23.433,89.761,11.420,89.798,98.32,0.468,65.84], # expected label 3\n",
    "    [55.81,19.326,94.371,8.377,95.064,82.94,6.377,59.54]   # expected label 1\n",
    "])\n",
    "new_pred = knn.predict(X_new)\n",
    "print('New data prediction: {}'.format(new_pred))"
   ]
  },
  {
   "cell_type": "markdown",
   "id": "828277cc",
   "metadata": {},
   "source": [
    "# The digits recognition dataset"
   ]
  },
  {
   "cell_type": "code",
   "execution_count": 37,
   "id": "6c6c0611",
   "metadata": {},
   "outputs": [
    {
     "name": "stdout",
     "output_type": "stream",
     "text": [
      "dict_keys(['data', 'target', 'frame', 'feature_names', 'target_names', 'images', 'DESCR'])\n",
      ".. _digits_dataset:\n",
      "\n",
      "Optical recognition of handwritten digits dataset\n",
      "--------------------------------------------------\n",
      "\n",
      "**Data Set Characteristics:**\n",
      "\n",
      "    :Number of Instances: 1797\n",
      "    :Number of Attributes: 64\n",
      "    :Attribute Information: 8x8 image of integer pixels in the range 0..16.\n",
      "    :Missing Attribute Values: None\n",
      "    :Creator: E. Alpaydin (alpaydin '@' boun.edu.tr)\n",
      "    :Date: July; 1998\n",
      "\n",
      "This is a copy of the test set of the UCI ML hand-written digits datasets\n",
      "https://archive.ics.uci.edu/ml/datasets/Optical+Recognition+of+Handwritten+Digits\n",
      "\n",
      "The data set contains images of hand-written digits: 10 classes where\n",
      "each class refers to a digit.\n",
      "\n",
      "Preprocessing programs made available by NIST were used to extract\n",
      "normalized bitmaps of handwritten digits from a preprinted form. From a\n",
      "total of 43 people, 30 contributed to the training set and different 13\n",
      "to the test set. 32x32 bitmaps are divided into nonoverlapping blocks of\n",
      "4x4 and the number of on pixels are counted in each block. This generates\n",
      "an input matrix of 8x8 where each element is an integer in the range\n",
      "0..16. This reduces dimensionality and gives invariance to small\n",
      "distortions.\n",
      "\n",
      "For info on NIST preprocessing routines, see M. D. Garris, J. L. Blue, G.\n",
      "T. Candela, D. L. Dimmick, J. Geist, P. J. Grother, S. A. Janet, and C.\n",
      "L. Wilson, NIST Form-Based Handprint Recognition System, NISTIR 5469,\n",
      "1994.\n",
      "\n",
      ".. topic:: References\n",
      "\n",
      "  - C. Kaynak (1995) Methods of Combining Multiple Classifiers and Their\n",
      "    Applications to Handwritten Digit Recognition, MSc Thesis, Institute of\n",
      "    Graduate Studies in Science and Engineering, Bogazici University.\n",
      "  - E. Alpaydin, C. Kaynak (1998) Cascading Classifiers, Kybernetika.\n",
      "  - Ken Tang and Ponnuthurai N. Suganthan and Xi Yao and A. Kai Qin.\n",
      "    Linear dimensionalityreduction using relevance weighted LDA. School of\n",
      "    Electrical and Electronic Engineering Nanyang Technological University.\n",
      "    2005.\n",
      "  - Claudio Gentile. A New Approximate Maximal Margin Classification\n",
      "    Algorithm. NIPS. 2000.\n",
      "\n",
      "(1797, 8, 8)\n",
      "(1797, 64)\n"
     ]
    },
    {
     "data": {
      "image/png": "[encoded data removed]",
      "text/plain": [
       "<Figure size 432x288 with 1 Axes>"
      ]
     },
     "metadata": {
      "needs_background": "light"
     },
     "output_type": "display_data"
    }
   ],
   "source": [
    "# Import necessary modules\n",
    "from sklearn import datasets\n",
    "import matplotlib.pyplot as plt\n",
    "\n",
    "# Load the digits dataset: digits\n",
    "digits = datasets.load_digits()\n",
    "\n",
    "# Print the keys and DESCR of the dataset\n",
    "print(digits.keys())\n",
    "print(digits.DESCR)\n",
    "\n",
    "# Print the shape of the images and data keys\n",
    "print(digits.images.shape)\n",
    "print(digits.data.shape)\n",
    "\n",
    "# Display digit 1010\n",
    "plt.imshow(digits.images[1010], cmap=plt.cm.gray_r, interpolation='nearest')\n",
    "plt.show()"
   ]
  },
  {
   "cell_type": "markdown",
   "id": "f3903691",
   "metadata": {},
   "source": [
    "# Train/Test Split + Fit/Predict/Accuracy"
   ]
  },
  {
   "cell_type": "code",
   "execution_count": 46,
   "id": "39dc27c6",
   "metadata": {},
   "outputs": [
    {
     "name": "stdout",
     "output_type": "stream",
     "text": [
      "0.9833333333333333\n"
     ]
    }
   ],
   "source": [
    "# Import necessary modules\n",
    "from sklearn.neighbors import KNeighborsClassifier\n",
    "from sklearn.model_selection import train_test_split\n",
    "\n",
    "# Create feature and target arrays\n",
    "X = digits.data\n",
    "y = digits.target\n",
    "\n",
    "# Split into training and test set\n",
    "X_train, X_test, y_train, y_test = train_test_split(X, y, test_size = 0.3, random_state=42, stratify=y)\n",
    "\n",
    "# Create a k-NN classifier with 7 neighbors: knn\n",
    "knn = KNeighborsClassifier(n_neighbors = 7)\n",
    "\n",
    "# Fit the classifier to the training data\n",
    "knn.fit(X_train,y_train)\n",
    "\n",
    "# Print the accuracy\n",
    "print(knn.score(X_test, y_test))\n"
   ]
  },
  {
   "cell_type": "markdown",
   "id": "f6d3e50e",
   "metadata": {},
   "source": [
    "# Overfitting and underfitting"
   ]
  },
  {
   "cell_type": "code",
   "execution_count": 50,
   "id": "4ca6f84a",
   "metadata": {},
   "outputs": [
    {
     "data": {
      "text/plain": [
       "Text(0, 0.5, 'Accuracy')"
      ]
     },
     "execution_count": 50,
     "metadata": {},
     "output_type": "execute_result"
    },
    {
     "data": {
      "image/png": "[encoded data removed]",
      "text/plain": [
       "<Figure size 432x288 with 1 Axes>"
      ]
     },
     "metadata": {
      "needs_background": "light"
     },
     "output_type": "display_data"
    }
   ],
   "source": [
    "# Setup arrays to store train and test accuracies\n",
    "neighbors = np.arange(1,9)\n",
    "train_accuracy = np.empty(len(neighbors))\n",
    "test_accuracy = np.empty(len(neighbors))\n",
    "\n",
    "# Loop over different values of k\n",
    "for i,k in enumerate(neighbors):\n",
    "    # Setup a k-NN Classifier with k neighbors: knn\n",
    "    knn = KNeighborsClassifier(n_neighbors = k)\n",
    "    # Fit the classifier to the training data\n",
    "    knn.fit(X_train,y_train)\n",
    "    #Compute accuracy on the training set\n",
    "    train_accuracy[i] = knn.score(X_train,y_train)\n",
    "    #Compute accuracy on the testing set\n",
    "    test_accuracy[i] = knn.score(X_test,y_test)\n",
    "    \n",
    "# Generate plot\n",
    "plt.title('k-NN: Varying number of neighbors')\n",
    "plt.plot(neighbors,train_accuracy, label = 'Training accuracy')\n",
    "plt.plot(neighbors,test_accuracy, label = 'Testing accuracy')\n",
    "plt.legend()\n",
    "plt.xlabel('Number of neighbors')\n",
    "plt.ylabel('Accuracy')"
   ]
  },
  {
   "cell_type": "code",
   "execution_count": null,
   "id": "19dab976",
   "metadata": {},
   "outputs": [],
   "source": []
  }
 ],
 "metadata": {
  "kernelspec": {
   "display_name": "Python 3",
   "language": "python",
   "name": "python3"
  },
  "language_info": {
   "codemirror_mode": {
    "name": "ipython",
    "version": 3
   },
   "file_extension": ".py",
   "mimetype": "text/x-python",
   "name": "python",
   "nbconvert_exporter": "python",
   "pygments_lexer": "ipython3",
   "version": "3.8.8"
  }
 },
 "nbformat": 4,
 "nbformat_minor": 5
}
